{
 "cells": [
  {
   "cell_type": "code",
   "execution_count": 1,
   "metadata": {},
   "outputs": [],
   "source": [
    "import torchvision.models as models"
   ]
  },
  {
   "cell_type": "code",
   "execution_count": 2,
   "metadata": {},
   "outputs": [],
   "source": [
    "resnet18 = models.resnet18()"
   ]
  },
  {
   "cell_type": "code",
   "execution_count": 4,
   "metadata": {},
   "outputs": [
    {
     "name": "stdout",
     "output_type": "stream",
     "text": [
      "conv1.weight : torch.Size([64, 3, 7, 7])\n",
      "bn1.weight : torch.Size([64])\n",
      "bn1.bias : torch.Size([64])\n",
      "layer1.0.conv1.weight : torch.Size([64, 64, 3, 3])\n",
      "layer1.0.bn1.weight : torch.Size([64])\n",
      "layer1.0.bn1.bias : torch.Size([64])\n",
      "layer1.0.conv2.weight : torch.Size([64, 64, 3, 3])\n",
      "layer1.0.bn2.weight : torch.Size([64])\n",
      "layer1.0.bn2.bias : torch.Size([64])\n",
      "layer1.1.conv1.weight : torch.Size([64, 64, 3, 3])\n",
      "layer1.1.bn1.weight : torch.Size([64])\n",
      "layer1.1.bn1.bias : torch.Size([64])\n",
      "layer1.1.conv2.weight : torch.Size([64, 64, 3, 3])\n",
      "layer1.1.bn2.weight : torch.Size([64])\n",
      "layer1.1.bn2.bias : torch.Size([64])\n",
      "layer2.0.conv1.weight : torch.Size([128, 64, 3, 3])\n",
      "layer2.0.bn1.weight : torch.Size([128])\n",
      "layer2.0.bn1.bias : torch.Size([128])\n",
      "layer2.0.conv2.weight : torch.Size([128, 128, 3, 3])\n",
      "layer2.0.bn2.weight : torch.Size([128])\n",
      "layer2.0.bn2.bias : torch.Size([128])\n",
      "layer2.0.downsample.0.weight : torch.Size([128, 64, 1, 1])\n",
      "layer2.0.downsample.1.weight : torch.Size([128])\n",
      "layer2.0.downsample.1.bias : torch.Size([128])\n",
      "layer2.1.conv1.weight : torch.Size([128, 128, 3, 3])\n",
      "layer2.1.bn1.weight : torch.Size([128])\n",
      "layer2.1.bn1.bias : torch.Size([128])\n",
      "layer2.1.conv2.weight : torch.Size([128, 128, 3, 3])\n",
      "layer2.1.bn2.weight : torch.Size([128])\n",
      "layer2.1.bn2.bias : torch.Size([128])\n",
      "layer3.0.conv1.weight : torch.Size([256, 128, 3, 3])\n",
      "layer3.0.bn1.weight : torch.Size([256])\n",
      "layer3.0.bn1.bias : torch.Size([256])\n",
      "layer3.0.conv2.weight : torch.Size([256, 256, 3, 3])\n",
      "layer3.0.bn2.weight : torch.Size([256])\n",
      "layer3.0.bn2.bias : torch.Size([256])\n",
      "layer3.0.downsample.0.weight : torch.Size([256, 128, 1, 1])\n",
      "layer3.0.downsample.1.weight : torch.Size([256])\n",
      "layer3.0.downsample.1.bias : torch.Size([256])\n",
      "layer3.1.conv1.weight : torch.Size([256, 256, 3, 3])\n",
      "layer3.1.bn1.weight : torch.Size([256])\n",
      "layer3.1.bn1.bias : torch.Size([256])\n",
      "layer3.1.conv2.weight : torch.Size([256, 256, 3, 3])\n",
      "layer3.1.bn2.weight : torch.Size([256])\n",
      "layer3.1.bn2.bias : torch.Size([256])\n",
      "layer4.0.conv1.weight : torch.Size([512, 256, 3, 3])\n",
      "layer4.0.bn1.weight : torch.Size([512])\n",
      "layer4.0.bn1.bias : torch.Size([512])\n",
      "layer4.0.conv2.weight : torch.Size([512, 512, 3, 3])\n",
      "layer4.0.bn2.weight : torch.Size([512])\n",
      "layer4.0.bn2.bias : torch.Size([512])\n",
      "layer4.0.downsample.0.weight : torch.Size([512, 256, 1, 1])\n",
      "layer4.0.downsample.1.weight : torch.Size([512])\n",
      "layer4.0.downsample.1.bias : torch.Size([512])\n",
      "layer4.1.conv1.weight : torch.Size([512, 512, 3, 3])\n",
      "layer4.1.bn1.weight : torch.Size([512])\n",
      "layer4.1.bn1.bias : torch.Size([512])\n",
      "layer4.1.conv2.weight : torch.Size([512, 512, 3, 3])\n",
      "layer4.1.bn2.weight : torch.Size([512])\n",
      "layer4.1.bn2.bias : torch.Size([512])\n",
      "fc.weight : torch.Size([1000, 512])\n",
      "fc.bias : torch.Size([1000])\n"
     ]
    }
   ],
   "source": [
    "for name,para in resnet18.named_parameters():\n",
    "    print(name, \":\", para.size())"
   ]
  },
  {
   "cell_type": "code",
   "execution_count": 6,
   "metadata": {
    "scrolled": false
   },
   "outputs": [
    {
     "name": "stdout",
     "output_type": "stream",
     "text": [
      "ResNet(\n",
      "  (conv1): Conv2d(3, 64, kernel_size=(7, 7), stride=(2, 2), padding=(3, 3), bias=False)\n",
      "  (bn1): BatchNorm2d(64, eps=1e-05, momentum=0.1, affine=True, track_running_stats=True)\n",
      "  (relu): ReLU(inplace=True)\n",
      "  (maxpool): MaxPool2d(kernel_size=3, stride=2, padding=1, dilation=1, ceil_mode=False)\n",
      "  (layer1): Sequential(\n",
      "    (0): BasicBlock(\n",
      "      (conv1): Conv2d(64, 64, kernel_size=(3, 3), stride=(1, 1), padding=(1, 1), bias=False)\n",
      "      (bn1): BatchNorm2d(64, eps=1e-05, momentum=0.1, affine=True, track_running_stats=True)\n",
      "      (relu): ReLU(inplace=True)\n",
      "      (conv2): Conv2d(64, 64, kernel_size=(3, 3), stride=(1, 1), padding=(1, 1), bias=False)\n",
      "      (bn2): BatchNorm2d(64, eps=1e-05, momentum=0.1, affine=True, track_running_stats=True)\n",
      "    )\n",
      "    (1): BasicBlock(\n",
      "      (conv1): Conv2d(64, 64, kernel_size=(3, 3), stride=(1, 1), padding=(1, 1), bias=False)\n",
      "      (bn1): BatchNorm2d(64, eps=1e-05, momentum=0.1, affine=True, track_running_stats=True)\n",
      "      (relu): ReLU(inplace=True)\n",
      "      (conv2): Conv2d(64, 64, kernel_size=(3, 3), stride=(1, 1), padding=(1, 1), bias=False)\n",
      "      (bn2): BatchNorm2d(64, eps=1e-05, momentum=0.1, affine=True, track_running_stats=True)\n",
      "    )\n",
      "  )\n",
      "  (layer2): Sequential(\n",
      "    (0): BasicBlock(\n",
      "      (conv1): Conv2d(64, 128, kernel_size=(3, 3), stride=(2, 2), padding=(1, 1), bias=False)\n",
      "      (bn1): BatchNorm2d(128, eps=1e-05, momentum=0.1, affine=True, track_running_stats=True)\n",
      "      (relu): ReLU(inplace=True)\n",
      "      (conv2): Conv2d(128, 128, kernel_size=(3, 3), stride=(1, 1), padding=(1, 1), bias=False)\n",
      "      (bn2): BatchNorm2d(128, eps=1e-05, momentum=0.1, affine=True, track_running_stats=True)\n",
      "      (downsample): Sequential(\n",
      "        (0): Conv2d(64, 128, kernel_size=(1, 1), stride=(2, 2), bias=False)\n",
      "        (1): BatchNorm2d(128, eps=1e-05, momentum=0.1, affine=True, track_running_stats=True)\n",
      "      )\n",
      "    )\n",
      "    (1): BasicBlock(\n",
      "      (conv1): Conv2d(128, 128, kernel_size=(3, 3), stride=(1, 1), padding=(1, 1), bias=False)\n",
      "      (bn1): BatchNorm2d(128, eps=1e-05, momentum=0.1, affine=True, track_running_stats=True)\n",
      "      (relu): ReLU(inplace=True)\n",
      "      (conv2): Conv2d(128, 128, kernel_size=(3, 3), stride=(1, 1), padding=(1, 1), bias=False)\n",
      "      (bn2): BatchNorm2d(128, eps=1e-05, momentum=0.1, affine=True, track_running_stats=True)\n",
      "    )\n",
      "  )\n",
      "  (layer3): Sequential(\n",
      "    (0): BasicBlock(\n",
      "      (conv1): Conv2d(128, 256, kernel_size=(3, 3), stride=(2, 2), padding=(1, 1), bias=False)\n",
      "      (bn1): BatchNorm2d(256, eps=1e-05, momentum=0.1, affine=True, track_running_stats=True)\n",
      "      (relu): ReLU(inplace=True)\n",
      "      (conv2): Conv2d(256, 256, kernel_size=(3, 3), stride=(1, 1), padding=(1, 1), bias=False)\n",
      "      (bn2): BatchNorm2d(256, eps=1e-05, momentum=0.1, affine=True, track_running_stats=True)\n",
      "      (downsample): Sequential(\n",
      "        (0): Conv2d(128, 256, kernel_size=(1, 1), stride=(2, 2), bias=False)\n",
      "        (1): BatchNorm2d(256, eps=1e-05, momentum=0.1, affine=True, track_running_stats=True)\n",
      "      )\n",
      "    )\n",
      "    (1): BasicBlock(\n",
      "      (conv1): Conv2d(256, 256, kernel_size=(3, 3), stride=(1, 1), padding=(1, 1), bias=False)\n",
      "      (bn1): BatchNorm2d(256, eps=1e-05, momentum=0.1, affine=True, track_running_stats=True)\n",
      "      (relu): ReLU(inplace=True)\n",
      "      (conv2): Conv2d(256, 256, kernel_size=(3, 3), stride=(1, 1), padding=(1, 1), bias=False)\n",
      "      (bn2): BatchNorm2d(256, eps=1e-05, momentum=0.1, affine=True, track_running_stats=True)\n",
      "    )\n",
      "  )\n",
      "  (layer4): Sequential(\n",
      "    (0): BasicBlock(\n",
      "      (conv1): Conv2d(256, 512, kernel_size=(3, 3), stride=(2, 2), padding=(1, 1), bias=False)\n",
      "      (bn1): BatchNorm2d(512, eps=1e-05, momentum=0.1, affine=True, track_running_stats=True)\n",
      "      (relu): ReLU(inplace=True)\n",
      "      (conv2): Conv2d(512, 512, kernel_size=(3, 3), stride=(1, 1), padding=(1, 1), bias=False)\n",
      "      (bn2): BatchNorm2d(512, eps=1e-05, momentum=0.1, affine=True, track_running_stats=True)\n",
      "      (downsample): Sequential(\n",
      "        (0): Conv2d(256, 512, kernel_size=(1, 1), stride=(2, 2), bias=False)\n",
      "        (1): BatchNorm2d(512, eps=1e-05, momentum=0.1, affine=True, track_running_stats=True)\n",
      "      )\n",
      "    )\n",
      "    (1): BasicBlock(\n",
      "      (conv1): Conv2d(512, 512, kernel_size=(3, 3), stride=(1, 1), padding=(1, 1), bias=False)\n",
      "      (bn1): BatchNorm2d(512, eps=1e-05, momentum=0.1, affine=True, track_running_stats=True)\n",
      "      (relu): ReLU(inplace=True)\n",
      "      (conv2): Conv2d(512, 512, kernel_size=(3, 3), stride=(1, 1), padding=(1, 1), bias=False)\n",
      "      (bn2): BatchNorm2d(512, eps=1e-05, momentum=0.1, affine=True, track_running_stats=True)\n",
      "    )\n",
      "  )\n",
      "  (avgpool): AdaptiveAvgPool2d(output_size=(1, 1))\n",
      "  (fc): Linear(in_features=512, out_features=1000, bias=True)\n",
      ")\n"
     ]
    }
   ],
   "source": [
    "print(resnet18)"
   ]
  },
  {
   "cell_type": "code",
   "execution_count": 9,
   "metadata": {},
   "outputs": [],
   "source": [
    "from torchviz import make_dot\n",
    "import torch"
   ]
  },
  {
   "cell_type": "code",
   "execution_count": 12,
   "metadata": {},
   "outputs": [],
   "source": [
    "x=torch.rand(1, 3, 128,128)\n",
    "y=resnet18(x)"
   ]
  },
  {
   "cell_type": "code",
   "execution_count": 13,
   "metadata": {},
   "outputs": [],
   "source": [
    "\n",
    "g = make_dot(y)"
   ]
  },
  {
   "cell_type": "code",
   "execution_count": null,
   "metadata": {},
   "outputs": [],
   "source": []
  }
 ],
 "metadata": {
  "kernelspec": {
   "display_name": "pt",
   "language": "python",
   "name": "pt"
  },
  "language_info": {
   "codemirror_mode": {
    "name": "ipython",
    "version": 3
   },
   "file_extension": ".py",
   "mimetype": "text/x-python",
   "name": "python",
   "nbconvert_exporter": "python",
   "pygments_lexer": "ipython3",
   "version": "3.6.10"
  }
 },
 "nbformat": 4,
 "nbformat_minor": 4
}
