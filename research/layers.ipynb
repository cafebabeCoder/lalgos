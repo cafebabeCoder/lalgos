{
 "cells": [
  {
   "cell_type": "code",
   "execution_count": 11,
   "id": "78f92a6a",
   "metadata": {},
   "outputs": [],
   "source": [
    "import torch.nn as nn\n",
    "import torch "
   ]
  },
  {
   "cell_type": "code",
   "execution_count": 3,
   "id": "85cd89ff",
   "metadata": {},
   "outputs": [],
   "source": [
    "class FMEmbedding(nn.Module):\n",
    "    r\"\"\" Embedding for token fields.\n",
    "\n",
    "    Args:\n",
    "        field_dims: list, the number of tokens in each token fields\n",
    "        offsets: list, the dimension offset of each token field\n",
    "        embed_dim: int, the dimension of output embedding vectors\n",
    "\n",
    "    Input:\n",
    "        input_x: tensor, A 3D tensor with shape:``(batch_size,field_size)``.\n",
    "\n",
    "    Return:\n",
    "        output: tensor,  A 3D tensor with shape: ``(batch_size,field_size,embed_dim)``.\n",
    "    \"\"\"\n",
    "\n",
    "    def __init__(self, field_dims, offsets, embed_dim):\n",
    "        super(FMEmbedding, self).__init__()\n",
    "        self.embedding = nn.Embedding(sum(field_dims), embed_dim)\n",
    "        self.offsets = offsets\n",
    "\n",
    "    def forward(self, input_x):\n",
    "        input_x = input_x + input_x.new_tensor(self.offsets).unsqueeze(0)\n",
    "        output = self.embedding(input_x)\n",
    "        return output"
   ]
  },
  {
   "cell_type": "code",
   "execution_count": 8,
   "id": "c7c8efd2",
   "metadata": {},
   "outputs": [
    {
     "ename": "AttributeError",
     "evalue": "'int' object has no attribute 'new_tensor'",
     "output_type": "error",
     "traceback": [
      "\u001b[0;31m---------------------------------------------------------------------------\u001b[0m",
      "\u001b[0;31mAttributeError\u001b[0m                            Traceback (most recent call last)",
      "\u001b[0;32m<ipython-input-8-849538fdb5f5>\u001b[0m in \u001b[0;36m<module>\u001b[0;34m\u001b[0m\n\u001b[1;32m      2\u001b[0m \u001b[0moffsets\u001b[0m\u001b[0;34m=\u001b[0m\u001b[0;34m[\u001b[0m\u001b[0;36m0\u001b[0m\u001b[0;34m,\u001b[0m \u001b[0;36m4\u001b[0m\u001b[0;34m]\u001b[0m\u001b[0;34m\u001b[0m\u001b[0;34m\u001b[0m\u001b[0m\n\u001b[1;32m      3\u001b[0m \u001b[0membed_dim\u001b[0m \u001b[0;34m=\u001b[0m \u001b[0;36m4\u001b[0m\u001b[0;34m\u001b[0m\u001b[0;34m\u001b[0m\u001b[0m\n\u001b[0;32m----> 4\u001b[0;31m \u001b[0mFMEmbedding\u001b[0m\u001b[0;34m(\u001b[0m\u001b[0mfield_dims\u001b[0m\u001b[0;34m,\u001b[0m \u001b[0moffsets\u001b[0m\u001b[0;34m,\u001b[0m \u001b[0membed_dim\u001b[0m\u001b[0;34m)\u001b[0m\u001b[0;34m(\u001b[0m\u001b[0;36m2\u001b[0m\u001b[0;34m)\u001b[0m\u001b[0;34m\u001b[0m\u001b[0;34m\u001b[0m\u001b[0m\n\u001b[0m",
      "\u001b[0;32m/data/anaconda3/envs/pt/lib/python3.6/site-packages/torch/nn/modules/module.py\u001b[0m in \u001b[0;36m_call_impl\u001b[0;34m(self, *input, **kwargs)\u001b[0m\n\u001b[1;32m    725\u001b[0m             \u001b[0mresult\u001b[0m \u001b[0;34m=\u001b[0m \u001b[0mself\u001b[0m\u001b[0;34m.\u001b[0m\u001b[0m_slow_forward\u001b[0m\u001b[0;34m(\u001b[0m\u001b[0;34m*\u001b[0m\u001b[0minput\u001b[0m\u001b[0;34m,\u001b[0m \u001b[0;34m**\u001b[0m\u001b[0mkwargs\u001b[0m\u001b[0;34m)\u001b[0m\u001b[0;34m\u001b[0m\u001b[0;34m\u001b[0m\u001b[0m\n\u001b[1;32m    726\u001b[0m         \u001b[0;32melse\u001b[0m\u001b[0;34m:\u001b[0m\u001b[0;34m\u001b[0m\u001b[0;34m\u001b[0m\u001b[0m\n\u001b[0;32m--> 727\u001b[0;31m             \u001b[0mresult\u001b[0m \u001b[0;34m=\u001b[0m \u001b[0mself\u001b[0m\u001b[0;34m.\u001b[0m\u001b[0mforward\u001b[0m\u001b[0;34m(\u001b[0m\u001b[0;34m*\u001b[0m\u001b[0minput\u001b[0m\u001b[0;34m,\u001b[0m \u001b[0;34m**\u001b[0m\u001b[0mkwargs\u001b[0m\u001b[0;34m)\u001b[0m\u001b[0;34m\u001b[0m\u001b[0;34m\u001b[0m\u001b[0m\n\u001b[0m\u001b[1;32m    728\u001b[0m         for hook in itertools.chain(\n\u001b[1;32m    729\u001b[0m                 \u001b[0m_global_forward_hooks\u001b[0m\u001b[0;34m.\u001b[0m\u001b[0mvalues\u001b[0m\u001b[0;34m(\u001b[0m\u001b[0;34m)\u001b[0m\u001b[0;34m,\u001b[0m\u001b[0;34m\u001b[0m\u001b[0;34m\u001b[0m\u001b[0m\n",
      "\u001b[0;32m<ipython-input-3-00ccc0c301ab>\u001b[0m in \u001b[0;36mforward\u001b[0;34m(self, input_x)\u001b[0m\n\u001b[1;32m     20\u001b[0m \u001b[0;34m\u001b[0m\u001b[0m\n\u001b[1;32m     21\u001b[0m     \u001b[0;32mdef\u001b[0m \u001b[0mforward\u001b[0m\u001b[0;34m(\u001b[0m\u001b[0mself\u001b[0m\u001b[0;34m,\u001b[0m \u001b[0minput_x\u001b[0m\u001b[0;34m)\u001b[0m\u001b[0;34m:\u001b[0m\u001b[0;34m\u001b[0m\u001b[0;34m\u001b[0m\u001b[0m\n\u001b[0;32m---> 22\u001b[0;31m         \u001b[0minput_x\u001b[0m \u001b[0;34m=\u001b[0m \u001b[0minput_x\u001b[0m \u001b[0;34m+\u001b[0m \u001b[0minput_x\u001b[0m\u001b[0;34m.\u001b[0m\u001b[0mnew_tensor\u001b[0m\u001b[0;34m(\u001b[0m\u001b[0mself\u001b[0m\u001b[0;34m.\u001b[0m\u001b[0moffsets\u001b[0m\u001b[0;34m)\u001b[0m\u001b[0;34m.\u001b[0m\u001b[0munsqueeze\u001b[0m\u001b[0;34m(\u001b[0m\u001b[0;36m0\u001b[0m\u001b[0;34m)\u001b[0m\u001b[0;34m\u001b[0m\u001b[0;34m\u001b[0m\u001b[0m\n\u001b[0m\u001b[1;32m     23\u001b[0m         \u001b[0moutput\u001b[0m \u001b[0;34m=\u001b[0m \u001b[0mself\u001b[0m\u001b[0;34m.\u001b[0m\u001b[0membedding\u001b[0m\u001b[0;34m(\u001b[0m\u001b[0minput_x\u001b[0m\u001b[0;34m)\u001b[0m\u001b[0;34m\u001b[0m\u001b[0;34m\u001b[0m\u001b[0m\n\u001b[1;32m     24\u001b[0m         \u001b[0;32mreturn\u001b[0m \u001b[0moutput\u001b[0m\u001b[0;34m\u001b[0m\u001b[0;34m\u001b[0m\u001b[0m\n",
      "\u001b[0;31mAttributeError\u001b[0m: 'int' object has no attribute 'new_tensor'"
     ]
    }
   ],
   "source": [
    "field_dims =[4, 3]\n",
    "offsets=[0, 4]\n",
    "embed_dim = 4 \n",
    "FMEmbedding(field_dims, offsets, embed_dim)(2)"
   ]
  },
  {
   "cell_type": "code",
   "execution_count": 16,
   "id": "93a5251d",
   "metadata": {},
   "outputs": [],
   "source": [
    "class BaseFactorizationMachine(nn.Module):\n",
    "    r\"\"\"Calculate FM result over the embeddings\n",
    "\n",
    "    Args:\n",
    "        reduce_sum: bool, whether to sum the result, default is True.\n",
    "\n",
    "    Input:\n",
    "        input_x: tensor, A 3D tensor with shape:``(batch_size,field_size,embed_dim)``.\n",
    "\n",
    "    Output\n",
    "        output: tensor, A 3D tensor with shape: ``(batch_size,1)`` or ``(batch_size, embed_dim)``.\n",
    "    \"\"\"\n",
    "\n",
    "    def __init__(self, reduce_sum=True):\n",
    "        super(BaseFactorizationMachine, self).__init__()\n",
    "        self.reduce_sum = reduce_sum\n",
    "\n",
    "    def forward(self, input_x):\n",
    "        square_of_sum = torch.sum(input_x, dim=1) ** 2\n",
    "        print(square_of_sum)\n",
    "        sum_of_square = torch.sum(input_x ** 2, dim=1)\n",
    "        print(sum_of_square)\n",
    "        output = square_of_sum - sum_of_square\n",
    "        if self.reduce_sum:\n",
    "            output = torch.sum(output, dim=1, keepdim=True)\n",
    "        output = 0.5 * output\n",
    "        return output"
   ]
  },
  {
   "cell_type": "code",
   "execution_count": 42,
   "id": "c8b23018",
   "metadata": {
    "scrolled": false
   },
   "outputs": [
    {
     "name": "stdout",
     "output_type": "stream",
     "text": [
      "tensor([[[0.8637, 0.8683, 0.5969, 0.1408],\n",
      "         [0.1930, 0.7096, 0.0815, 0.7405]]])\n",
      "tensor([[1.1167, 2.4898, 0.4602, 0.7767]])\n",
      "tensor([[0.7832, 1.2575, 0.3630, 0.5682]])\n"
     ]
    },
    {
     "data": {
      "text/plain": [
       "tensor([[0.9358]])"
      ]
     },
     "execution_count": 42,
     "metadata": {},
     "output_type": "execute_result"
    }
   ],
   "source": [
    "testor = torch.rand(1, 2, 4)\n",
    "print(testor)\n",
    "baseFM = BaseFactorizationMachine()\n",
    "baseFM(testor)"
   ]
  },
  {
   "cell_type": "code",
   "execution_count": 45,
   "id": "5832043e",
   "metadata": {},
   "outputs": [
    {
     "data": {
      "text/plain": [
       "tensor([[[0.7459, 0.7539, 0.3563, 0.0198],\n",
       "         [0.0373, 0.5036, 0.0066, 0.5484]]])"
      ]
     },
     "execution_count": 45,
     "metadata": {},
     "output_type": "execute_result"
    }
   ],
   "source": [
    "testor**2"
   ]
  },
  {
   "cell_type": "code",
   "execution_count": 43,
   "id": "b286475f",
   "metadata": {
    "scrolled": true
   },
   "outputs": [
    {
     "data": {
      "text/plain": [
       "tensor([[1.0567, 1.5779, 0.6784, 0.8813]])"
      ]
     },
     "execution_count": 43,
     "metadata": {},
     "output_type": "execute_result"
    }
   ],
   "source": [
    "torch.sum(testor, dim=1)"
   ]
  },
  {
   "cell_type": "code",
   "execution_count": 37,
   "id": "ec2cb92c",
   "metadata": {},
   "outputs": [
    {
     "data": {
      "text/plain": [
       "tensor([[3.3762, 0.7137, 0.8567, 0.7068],\n",
       "        [0.9635, 0.9119, 0.2637, 0.2471],\n",
       "        [0.4506, 2.9331, 0.2377, 0.2812],\n",
       "        [0.9868, 1.8732, 1.3557, 1.4759]])"
      ]
     },
     "execution_count": 37,
     "metadata": {},
     "output_type": "execute_result"
    }
   ],
   "source": [
    "torch.sum(testor, dim=1)  * torch.sum(testor, dim=1)"
   ]
  },
  {
   "cell_type": "code",
   "execution_count": 36,
   "id": "9a2b3b79",
   "metadata": {},
   "outputs": [
    {
     "name": "stdout",
     "output_type": "stream",
     "text": [
      "3.3760387599999997\n",
      "0.82925568\n",
      "0.62135528\n",
      "0.8356558\n"
     ]
    }
   ],
   "source": [
    "a = [1.8374, 0.8448, 0.9256, 0.8407]\n",
    "b = [1.8374,0.9816,0.6713,0.994]\n",
    "\n",
    "for i, j in zip(a, b):\n",
    "    print(i * j)"
   ]
  },
  {
   "cell_type": "code",
   "execution_count": 31,
   "id": "1ec73599",
   "metadata": {},
   "outputs": [
    {
     "data": {
      "text/plain": [
       "tensor(1.2784)"
      ]
     },
     "execution_count": 31,
     "metadata": {},
     "output_type": "execute_result"
    }
   ],
   "source": [
    "sum(testor[0][1]* testor[0][0])"
   ]
  },
  {
   "cell_type": "code",
   "execution_count": null,
   "id": "8a4a5bb0",
   "metadata": {},
   "outputs": [],
   "source": []
  }
 ],
 "metadata": {
  "kernelspec": {
   "display_name": "pt",
   "language": "python",
   "name": "pt"
  },
  "language_info": {
   "codemirror_mode": {
    "name": "ipython",
    "version": 3
   },
   "file_extension": ".py",
   "mimetype": "text/x-python",
   "name": "python",
   "nbconvert_exporter": "python",
   "pygments_lexer": "ipython3",
   "version": "3.6.10"
  }
 },
 "nbformat": 4,
 "nbformat_minor": 5
}
