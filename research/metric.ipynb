{
 "cells": [
  {
   "cell_type": "code",
   "execution_count": 23,
   "metadata": {},
   "outputs": [
    {
     "name": "stdout",
     "output_type": "stream",
     "text": [
      "higeloss: 0.3030367603854425\n",
      "my hingeloss, thread =1 : 0.03029657294789077\n",
      "my hingeloss, thread=2:  1.5454093439685685\n"
     ]
    }
   ],
   "source": [
    "from sklearn import svm\n",
    "from sklearn.metrics import hinge_loss\n",
    "import numpy as np\n",
    "\n",
    "X = [[0], [1]]\n",
    "y = [-1, 1]\n",
    "est = svm.LinearSVC(random_state=0)\n",
    "est.fit(X, y)\n",
    "\n",
    "pred_decision = est.decision_function([[-2], [3], [0.5]])\n",
    "pred_label = np.array([-1, 1, 1])\n",
    "\n",
    "print('higeloss:', hinge_loss(pred_label, pred_decision))\n",
    "\n",
    "thread = 1\n",
    "print('my hingeloss, thread =1 :', sum([x if thread-x>0 else 0 for x in pred_decision*pred_label])/len(pred_decision))\n",
    "\n",
    "thread =20\n",
    "print('my hingeloss, thread=2: ', sum([x if thread-x>0 else 0 for x in pred_decision*pred_label])/len(pred_decision))"
   ]
  },
  {
   "cell_type": "code",
   "execution_count": null,
   "metadata": {},
   "outputs": [],
   "source": []
  }
 ],
 "metadata": {
  "kernelspec": {
   "display_name": "xgbs",
   "language": "python",
   "name": "xgbs"
  },
  "language_info": {
   "codemirror_mode": {
    "name": "ipython",
    "version": 3
   },
   "file_extension": ".py",
   "mimetype": "text/x-python",
   "name": "python",
   "nbconvert_exporter": "python",
   "pygments_lexer": "ipython3",
   "version": "3.6.10"
  }
 },
 "nbformat": 4,
 "nbformat_minor": 4
}
